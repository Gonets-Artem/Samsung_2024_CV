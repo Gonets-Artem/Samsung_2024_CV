{
 "cells": [
  {
   "cell_type": "code",
   "execution_count": 9,
   "id": "771a882c",
   "metadata": {},
   "outputs": [],
   "source": [
    "import pandas as pd\n",
    "import os"
   ]
  },
  {
   "cell_type": "code",
   "execution_count": 22,
   "id": "63f98829",
   "metadata": {},
   "outputs": [],
   "source": [
    "arr_images = []\n",
    "arr_masks = []\n",
    "for dirname, _, filenames in os.walk('.'):\n",
    "    for filename in filenames:\n",
    "        if dirname == '.\\\\images_segm':\n",
    "            arr_images.append(f'images_segm/{filename}')\n",
    "        if dirname == '.\\\\masks_segm':\n",
    "            arr_masks.append(f'masks_segm/{filename}')"
   ]
  },
  {
   "cell_type": "code",
   "execution_count": 23,
   "id": "f91f2adc",
   "metadata": {},
   "outputs": [
    {
     "data": {
      "text/plain": [
       "(705, 705)"
      ]
     },
     "execution_count": 23,
     "metadata": {},
     "output_type": "execute_result"
    }
   ],
   "source": [
    "len(arr_images), len(arr_masks)"
   ]
  },
  {
   "cell_type": "code",
   "execution_count": 24,
   "id": "c61c8acd",
   "metadata": {},
   "outputs": [],
   "source": [
    "images = pd.Series(arr_images, name='images')\n",
    "masks = pd.Series(arr_masks, name='masks')"
   ]
  },
  {
   "cell_type": "code",
   "execution_count": 25,
   "id": "05d72456",
   "metadata": {},
   "outputs": [],
   "source": [
    "df = pd.concat([images, masks], axis=1)"
   ]
  },
  {
   "cell_type": "code",
   "execution_count": 26,
   "id": "a545b8f6",
   "metadata": {},
   "outputs": [],
   "source": [
    "df = df.sample(frac=1).reset_index(drop=True)"
   ]
  },
  {
   "cell_type": "code",
   "execution_count": 27,
   "id": "6b95db8c",
   "metadata": {},
   "outputs": [
    {
     "data": {
      "text/html": [
       "<div>\n",
       "<style scoped>\n",
       "    .dataframe tbody tr th:only-of-type {\n",
       "        vertical-align: middle;\n",
       "    }\n",
       "\n",
       "    .dataframe tbody tr th {\n",
       "        vertical-align: top;\n",
       "    }\n",
       "\n",
       "    .dataframe thead th {\n",
       "        text-align: right;\n",
       "    }\n",
       "</style>\n",
       "<table border=\"1\" class=\"dataframe\">\n",
       "  <thead>\n",
       "    <tr style=\"text-align: right;\">\n",
       "      <th></th>\n",
       "      <th>images</th>\n",
       "      <th>masks</th>\n",
       "    </tr>\n",
       "  </thead>\n",
       "  <tbody>\n",
       "    <tr>\n",
       "      <th>0</th>\n",
       "      <td>images_segm/img-Glass004-432-14_lip_puckerer-2...</td>\n",
       "      <td>masks_segm/img-Glass004-432-14_lip_puckerer-2-...</td>\n",
       "    </tr>\n",
       "    <tr>\n",
       "      <th>1</th>\n",
       "      <td>images_segm/img-Glass007-458-8_jaw_right-2-der...</td>\n",
       "      <td>masks_segm/img-Glass007-458-8_jaw_right-2-dere...</td>\n",
       "    </tr>\n",
       "    <tr>\n",
       "      <th>2</th>\n",
       "      <td>images_segm/img-Glass009-389-2_mouth_open-1-ve...</td>\n",
       "      <td>masks_segm/img-Glass009-389-2_mouth_open-1-ven...</td>\n",
       "    </tr>\n",
       "    <tr>\n",
       "      <th>3</th>\n",
       "      <td>images_segm/img-Glass001-452-12_dimpler-0-eppi...</td>\n",
       "      <td>masks_segm/img-Glass001-452-12_dimpler-0-eppin...</td>\n",
       "    </tr>\n",
       "    <tr>\n",
       "      <th>4</th>\n",
       "      <td>images_segm/img-Glass004-403-11_mouth_right-2-...</td>\n",
       "      <td>masks_segm/img-Glass004-403-11_mouth_right-2-a...</td>\n",
       "    </tr>\n",
       "    <tr>\n",
       "      <th>...</th>\n",
       "      <td>...</td>\n",
       "      <td>...</td>\n",
       "    </tr>\n",
       "    <tr>\n",
       "      <th>700</th>\n",
       "      <td>images_segm/img-Glass006-449-16_sadness-3-bush...</td>\n",
       "      <td>masks_segm/img-Glass006-449-16_sadness-3-bush_...</td>\n",
       "    </tr>\n",
       "    <tr>\n",
       "      <th>701</th>\n",
       "      <td>images_segm/img-Glass008-451-18_grin-3-rooftop...</td>\n",
       "      <td>masks_segm/img-Glass008-451-18_grin-3-rooftop_...</td>\n",
       "    </tr>\n",
       "    <tr>\n",
       "      <th>702</th>\n",
       "      <td>images_segm/img-Glass003-388-5_brow_raiser-3-m...</td>\n",
       "      <td>masks_segm/img-Glass003-388-5_brow_raiser-3-mu...</td>\n",
       "    </tr>\n",
       "    <tr>\n",
       "      <th>703</th>\n",
       "      <td>images_segm/img-Glass021-449-20_eye_closed-1-p...</td>\n",
       "      <td>masks_segm/img-Glass021-449-20_eye_closed-1-pr...</td>\n",
       "    </tr>\n",
       "    <tr>\n",
       "      <th>704</th>\n",
       "      <td>images_segm/img-Glass006-382-12_dimpler-2-muse...</td>\n",
       "      <td>masks_segm/img-Glass006-382-12_dimpler-2-museu...</td>\n",
       "    </tr>\n",
       "  </tbody>\n",
       "</table>\n",
       "<p>705 rows × 2 columns</p>\n",
       "</div>"
      ],
      "text/plain": [
       "                                                images  \\\n",
       "0    images_segm/img-Glass004-432-14_lip_puckerer-2...   \n",
       "1    images_segm/img-Glass007-458-8_jaw_right-2-der...   \n",
       "2    images_segm/img-Glass009-389-2_mouth_open-1-ve...   \n",
       "3    images_segm/img-Glass001-452-12_dimpler-0-eppi...   \n",
       "4    images_segm/img-Glass004-403-11_mouth_right-2-...   \n",
       "..                                                 ...   \n",
       "700  images_segm/img-Glass006-449-16_sadness-3-bush...   \n",
       "701  images_segm/img-Glass008-451-18_grin-3-rooftop...   \n",
       "702  images_segm/img-Glass003-388-5_brow_raiser-3-m...   \n",
       "703  images_segm/img-Glass021-449-20_eye_closed-1-p...   \n",
       "704  images_segm/img-Glass006-382-12_dimpler-2-muse...   \n",
       "\n",
       "                                                 masks  \n",
       "0    masks_segm/img-Glass004-432-14_lip_puckerer-2-...  \n",
       "1    masks_segm/img-Glass007-458-8_jaw_right-2-dere...  \n",
       "2    masks_segm/img-Glass009-389-2_mouth_open-1-ven...  \n",
       "3    masks_segm/img-Glass001-452-12_dimpler-0-eppin...  \n",
       "4    masks_segm/img-Glass004-403-11_mouth_right-2-a...  \n",
       "..                                                 ...  \n",
       "700  masks_segm/img-Glass006-449-16_sadness-3-bush_...  \n",
       "701  masks_segm/img-Glass008-451-18_grin-3-rooftop_...  \n",
       "702  masks_segm/img-Glass003-388-5_brow_raiser-3-mu...  \n",
       "703  masks_segm/img-Glass021-449-20_eye_closed-1-pr...  \n",
       "704  masks_segm/img-Glass006-382-12_dimpler-2-museu...  \n",
       "\n",
       "[705 rows x 2 columns]"
      ]
     },
     "execution_count": 27,
     "metadata": {},
     "output_type": "execute_result"
    }
   ],
   "source": [
    "df"
   ]
  },
  {
   "cell_type": "code",
   "execution_count": 28,
   "id": "a129ffe4",
   "metadata": {},
   "outputs": [],
   "source": [
    "df.to_csv('df_glasses.csv')"
   ]
  },
  {
   "cell_type": "code",
   "execution_count": null,
   "id": "e3ea1ebe",
   "metadata": {},
   "outputs": [],
   "source": []
  }
 ],
 "metadata": {
  "kernelspec": {
   "display_name": "Python 3 (ipykernel)",
   "language": "python",
   "name": "python3"
  },
  "language_info": {
   "codemirror_mode": {
    "name": "ipython",
    "version": 3
   },
   "file_extension": ".py",
   "mimetype": "text/x-python",
   "name": "python",
   "nbconvert_exporter": "python",
   "pygments_lexer": "ipython3",
   "version": "3.9.13"
  }
 },
 "nbformat": 4,
 "nbformat_minor": 5
}
