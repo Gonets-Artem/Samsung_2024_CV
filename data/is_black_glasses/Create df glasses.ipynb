{
 "cells": [
  {
   "cell_type": "code",
   "execution_count": 2,
   "id": "771a882c",
   "metadata": {},
   "outputs": [],
   "source": [
    "import pandas as pd\n",
    "import os"
   ]
  },
  {
   "cell_type": "code",
   "execution_count": 15,
   "id": "63f98829",
   "metadata": {},
   "outputs": [],
   "source": [
    "i = 0\n",
    "arr_images = []\n",
    "arr_masks = []\n",
    "arr_black = []\n",
    "for dirname, _, filenames in os.walk('./'):\n",
    "    for filename in filenames:\n",
    "        if dirname == './is_black_glasses\\images':\n",
    "            arr_images.append(f'images/{filename}')\n",
    "            arr_black.append(1)\n",
    "        if dirname == './not_black_glasses\\images':\n",
    "            arr_images.append(f'images/{filename}')\n",
    "            arr_black.append(0)\n",
    "        if dirname == './is_black_glasses\\masks':\n",
    "            arr_masks.append(f'masks/{filename}')\n",
    "        if dirname == './not_black_glasses\\masks':\n",
    "            arr_masks.append(f'masks/{filename}')"
   ]
  },
  {
   "cell_type": "code",
   "execution_count": 16,
   "id": "f91f2adc",
   "metadata": {},
   "outputs": [
    {
     "data": {
      "text/plain": [
       "(8504, 8504)"
      ]
     },
     "execution_count": 16,
     "metadata": {},
     "output_type": "execute_result"
    }
   ],
   "source": [
    "len(arr_images), len(arr_masks)"
   ]
  },
  {
   "cell_type": "code",
   "execution_count": 17,
   "id": "c61c8acd",
   "metadata": {},
   "outputs": [],
   "source": [
    "black = pd.Series(arr_black, name='black')\n",
    "images = pd.Series(arr_images, name='images')\n",
    "masks = pd.Series(arr_masks, name='masks')"
   ]
  },
  {
   "cell_type": "code",
   "execution_count": 18,
   "id": "05d72456",
   "metadata": {},
   "outputs": [],
   "source": [
    "df = pd.concat([black, images, masks], axis=1)"
   ]
  },
  {
   "cell_type": "code",
   "execution_count": 19,
   "id": "a545b8f6",
   "metadata": {},
   "outputs": [],
   "source": [
    "df = df.sample(frac=1).reset_index(drop=True)"
   ]
  },
  {
   "cell_type": "code",
   "execution_count": 20,
   "id": "cb9000a7",
   "metadata": {},
   "outputs": [
    {
     "data": {
      "text/html": [
       "<div>\n",
       "<style scoped>\n",
       "    .dataframe tbody tr th:only-of-type {\n",
       "        vertical-align: middle;\n",
       "    }\n",
       "\n",
       "    .dataframe tbody tr th {\n",
       "        vertical-align: top;\n",
       "    }\n",
       "\n",
       "    .dataframe thead th {\n",
       "        text-align: right;\n",
       "    }\n",
       "</style>\n",
       "<table border=\"1\" class=\"dataframe\">\n",
       "  <thead>\n",
       "    <tr style=\"text-align: right;\">\n",
       "      <th></th>\n",
       "      <th>black</th>\n",
       "      <th>images</th>\n",
       "      <th>masks</th>\n",
       "    </tr>\n",
       "  </thead>\n",
       "  <tbody>\n",
       "    <tr>\n",
       "      <th>1</th>\n",
       "      <td>1</td>\n",
       "      <td>images/img-Glass005-372-18_grin-3-small_harbor...</td>\n",
       "      <td>masks/img-Glass005-372-18_grin-3-small_harbor_...</td>\n",
       "    </tr>\n",
       "    <tr>\n",
       "      <th>15</th>\n",
       "      <td>1</td>\n",
       "      <td>images/img-Glass006-424-12_dimpler-1-leadenhal...</td>\n",
       "      <td>masks/img-Glass006-424-12_dimpler-1-leadenhall...</td>\n",
       "    </tr>\n",
       "    <tr>\n",
       "      <th>17</th>\n",
       "      <td>1</td>\n",
       "      <td>images/img-Glass008-414-7_jaw_left-1-lebombo-2...</td>\n",
       "      <td>masks/img-Glass008-414-7_jaw_left-1-lebombo-22...</td>\n",
       "    </tr>\n",
       "    <tr>\n",
       "      <th>21</th>\n",
       "      <td>1</td>\n",
       "      <td>images/img-Glass001-374-6_anger-1-theater_01-2...</td>\n",
       "      <td>masks/img-Glass001-374-6_anger-1-theater_01-26...</td>\n",
       "    </tr>\n",
       "    <tr>\n",
       "      <th>25</th>\n",
       "      <td>1</td>\n",
       "      <td>images/img-Glass021-411-3_smile-2-museumplein-...</td>\n",
       "      <td>masks/img-Glass021-411-3_smile-2-museumplein-2...</td>\n",
       "    </tr>\n",
       "    <tr>\n",
       "      <th>...</th>\n",
       "      <td>...</td>\n",
       "      <td>...</td>\n",
       "      <td>...</td>\n",
       "    </tr>\n",
       "    <tr>\n",
       "      <th>642</th>\n",
       "      <td>0</td>\n",
       "      <td>images/img-Glass009-393-9_jaw_forward-3-entran...</td>\n",
       "      <td>masks/img-Glass009-393-9_jaw_forward-3-entranc...</td>\n",
       "    </tr>\n",
       "    <tr>\n",
       "      <th>643</th>\n",
       "      <td>0</td>\n",
       "      <td>images/img-Glass007-400-14_lip_puckerer-2-whal...</td>\n",
       "      <td>masks/img-Glass007-400-14_lip_puckerer-2-whale...</td>\n",
       "    </tr>\n",
       "    <tr>\n",
       "      <th>644</th>\n",
       "      <td>0</td>\n",
       "      <td>images/img-Glass008-376-11_mouth_right-2-fish_...</td>\n",
       "      <td>masks/img-Glass008-376-11_mouth_right-2-fish_h...</td>\n",
       "    </tr>\n",
       "    <tr>\n",
       "      <th>645</th>\n",
       "      <td>0</td>\n",
       "      <td>images/img-Glass004-370-12_dimpler-2-pool-114-...</td>\n",
       "      <td>masks/img-Glass004-370-12_dimpler-2-pool-114-s...</td>\n",
       "    </tr>\n",
       "    <tr>\n",
       "      <th>646</th>\n",
       "      <td>0</td>\n",
       "      <td>images/img-Glass006-410-5_brow_raiser-0-cabin-...</td>\n",
       "      <td>masks/img-Glass006-410-5_brow_raiser-0-cabin-3...</td>\n",
       "    </tr>\n",
       "  </tbody>\n",
       "</table>\n",
       "<p>1000 rows × 3 columns</p>\n",
       "</div>"
      ],
      "text/plain": [
       "     black                                             images  \\\n",
       "1        1  images/img-Glass005-372-18_grin-3-small_harbor...   \n",
       "15       1  images/img-Glass006-424-12_dimpler-1-leadenhal...   \n",
       "17       1  images/img-Glass008-414-7_jaw_left-1-lebombo-2...   \n",
       "21       1  images/img-Glass001-374-6_anger-1-theater_01-2...   \n",
       "25       1  images/img-Glass021-411-3_smile-2-museumplein-...   \n",
       "..     ...                                                ...   \n",
       "642      0  images/img-Glass009-393-9_jaw_forward-3-entran...   \n",
       "643      0  images/img-Glass007-400-14_lip_puckerer-2-whal...   \n",
       "644      0  images/img-Glass008-376-11_mouth_right-2-fish_...   \n",
       "645      0  images/img-Glass004-370-12_dimpler-2-pool-114-...   \n",
       "646      0  images/img-Glass006-410-5_brow_raiser-0-cabin-...   \n",
       "\n",
       "                                                 masks  \n",
       "1    masks/img-Glass005-372-18_grin-3-small_harbor_...  \n",
       "15   masks/img-Glass006-424-12_dimpler-1-leadenhall...  \n",
       "17   masks/img-Glass008-414-7_jaw_left-1-lebombo-22...  \n",
       "21   masks/img-Glass001-374-6_anger-1-theater_01-26...  \n",
       "25   masks/img-Glass021-411-3_smile-2-museumplein-2...  \n",
       "..                                                 ...  \n",
       "642  masks/img-Glass009-393-9_jaw_forward-3-entranc...  \n",
       "643  masks/img-Glass007-400-14_lip_puckerer-2-whale...  \n",
       "644  masks/img-Glass008-376-11_mouth_right-2-fish_h...  \n",
       "645  masks/img-Glass004-370-12_dimpler-2-pool-114-s...  \n",
       "646  masks/img-Glass006-410-5_brow_raiser-0-cabin-3...  \n",
       "\n",
       "[1000 rows x 3 columns]"
      ]
     },
     "execution_count": 20,
     "metadata": {},
     "output_type": "execute_result"
    }
   ],
   "source": [
    "is_black = df[df.black == 1].head(500)\n",
    "not_black = df[df.black == 0].head(500)\n",
    "pd.concat([is_black, not_black])"
   ]
  },
  {
   "cell_type": "code",
   "execution_count": 21,
   "id": "a129ffe4",
   "metadata": {},
   "outputs": [],
   "source": [
    "df.to_csv('df_glasses.csv')"
   ]
  },
  {
   "cell_type": "code",
   "execution_count": null,
   "id": "e3ea1ebe",
   "metadata": {},
   "outputs": [],
   "source": []
  }
 ],
 "metadata": {
  "kernelspec": {
   "display_name": "Python 3 (ipykernel)",
   "language": "python",
   "name": "python3"
  },
  "language_info": {
   "codemirror_mode": {
    "name": "ipython",
    "version": 3
   },
   "file_extension": ".py",
   "mimetype": "text/x-python",
   "name": "python",
   "nbconvert_exporter": "python",
   "pygments_lexer": "ipython3",
   "version": "3.9.13"
  }
 },
 "nbformat": 4,
 "nbformat_minor": 5
}
