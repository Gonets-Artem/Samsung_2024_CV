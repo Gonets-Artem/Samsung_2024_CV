{
 "cells": [
  {
   "cell_type": "code",
   "execution_count": 2,
   "id": "771a882c",
   "metadata": {},
   "outputs": [],
   "source": [
    "import pandas as pd\n",
    "import os"
   ]
  },
  {
   "cell_type": "code",
   "execution_count": 3,
   "id": "63f98829",
   "metadata": {},
   "outputs": [],
   "source": [
    "i = 0\n",
    "arr_images = []\n",
    "arr_masks = []\n",
    "arr_black = []\n",
    "for dirname, _, filenames in os.walk('./'):\n",
    "    for filename in filenames:\n",
    "        if dirname == './is_black_glasses\\images':\n",
    "            arr_images.append(f'is_black_glasses/images/{filename}')\n",
    "            arr_black.append(1)\n",
    "        if dirname == './not_black_glasses\\images':\n",
    "            arr_images.append(f'not_black_glasses/images/{filename}')\n",
    "            arr_black.append(0)\n",
    "        if dirname == './is_black_glasses\\masks':\n",
    "            arr_masks.append(f'is_black_glasses/masks/{filename}')\n",
    "        if dirname == './not_black_glasses\\masks':\n",
    "            arr_masks.append(f'not_black_glasses/masks/{filename}')"
   ]
  },
  {
   "cell_type": "code",
   "execution_count": 4,
   "id": "f91f2adc",
   "metadata": {},
   "outputs": [
    {
     "data": {
      "text/plain": [
       "(8504, 8504)"
      ]
     },
     "execution_count": 4,
     "metadata": {},
     "output_type": "execute_result"
    }
   ],
   "source": [
    "len(arr_images), len(arr_masks)"
   ]
  },
  {
   "cell_type": "code",
   "execution_count": 9,
   "id": "c61c8acd",
   "metadata": {},
   "outputs": [],
   "source": [
    "black = pd.Series(arr_black, name='black')\n",
    "images = pd.Series(arr_images, name='images')\n",
    "masks = pd.Series(arr_masks, name='masks')"
   ]
  },
  {
   "cell_type": "code",
   "execution_count": 10,
   "id": "05d72456",
   "metadata": {},
   "outputs": [],
   "source": [
    "df = pd.concat([black, images, masks], axis=1)"
   ]
  },
  {
   "cell_type": "code",
   "execution_count": 11,
   "id": "a545b8f6",
   "metadata": {},
   "outputs": [],
   "source": [
    "df = df.sample(frac=1).reset_index(drop=True)"
   ]
  },
  {
   "cell_type": "code",
   "execution_count": 19,
   "id": "cb9000a7",
   "metadata": {},
   "outputs": [],
   "source": [
    "is_black = df[df.black == 1].head(500)\n",
    "not_black = df[df.black == 0].head(500)\n",
    "pd.concat([is_black, not_black])"
   ]
  },
  {
   "cell_type": "code",
   "execution_count": 12,
   "id": "a129ffe4",
   "metadata": {},
   "outputs": [],
   "source": [
    "df.to_csv('df_glasses.csv')"
   ]
  },
  {
   "cell_type": "code",
   "execution_count": null,
   "id": "e3ea1ebe",
   "metadata": {},
   "outputs": [],
   "source": []
  }
 ],
 "metadata": {
  "kernelspec": {
   "display_name": "Python 3 (ipykernel)",
   "language": "python",
   "name": "python3"
  },
  "language_info": {
   "codemirror_mode": {
    "name": "ipython",
    "version": 3
   },
   "file_extension": ".py",
   "mimetype": "text/x-python",
   "name": "python",
   "nbconvert_exporter": "python",
   "pygments_lexer": "ipython3",
   "version": "3.9.13"
  }
 },
 "nbformat": 4,
 "nbformat_minor": 5
}
